{
 "cells": [
  {
   "cell_type": "markdown",
   "id": "a62a0e6b",
   "metadata": {},
   "source": [
    "# 공공 데이터 분석"
   ]
  },
  {
   "cell_type": "code",
   "execution_count": 4,
   "id": "5b02c2c3",
   "metadata": {},
   "outputs": [
    {
     "name": "stdout",
     "output_type": "stream",
     "text": [
      "{\"code\":-401,\"msg\":\"인증키는 필수 항목 입니다.\"}\n",
      "\n"
     ]
    }
   ],
   "source": [
    "import pandas as pd\n",
    "import requests\n",
    "import pprint\n",
    "import json\n",
    "\n",
    "url = 'https://api.odcloud.kr/api/15044243/v1/uddi:e464b623-97c1-4443-bd7a-8df194591d47_201801111303?page=1&perPage=10'\n",
    "response = requests.get(url)\n",
    "contents = response.text\n",
    "\n",
    "print(contents)"
   ]
  },
  {
   "cell_type": "code",
   "execution_count": null,
   "id": "e3e39a07",
   "metadata": {},
   "outputs": [],
   "source": []
  }
 ],
 "metadata": {
  "kernelspec": {
   "display_name": "Python 3 (ipykernel)",
   "language": "python",
   "name": "python3"
  },
  "language_info": {
   "codemirror_mode": {
    "name": "ipython",
    "version": 3
   },
   "file_extension": ".py",
   "mimetype": "text/x-python",
   "name": "python",
   "nbconvert_exporter": "python",
   "pygments_lexer": "ipython3",
   "version": "3.10.2"
  }
 },
 "nbformat": 4,
 "nbformat_minor": 5
}

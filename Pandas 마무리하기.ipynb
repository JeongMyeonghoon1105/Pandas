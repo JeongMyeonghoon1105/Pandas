{
 "cells": [
  {
   "cell_type": "markdown",
   "id": "8c284b32",
   "metadata": {},
   "source": [
    "# Pandas 마무리하기"
   ]
  },
  {
   "cell_type": "code",
   "execution_count": 38,
   "id": "2de291d8",
   "metadata": {},
   "outputs": [],
   "source": [
    "import pandas as pd\n",
    "import numpy as np"
   ]
  },
  {
   "cell_type": "markdown",
   "id": "3589daa3",
   "metadata": {},
   "source": [
    "## Data Frame에 난수 저장하기\n",
    "\n",
    "* Numpy 패키지의 rand( ) 함수 이용.   \n",
    "* rand( ) 함수는 난수를 생성해 배열에 저장하고, 이 배열을 리턴.   \n",
    "* rand( ) 함수의 파라미터로는 생성할 배열의 Shape을 전달."
   ]
  },
  {
   "cell_type": "code",
   "execution_count": 39,
   "id": "32e22341",
   "metadata": {},
   "outputs": [
    {
     "data": {
      "text/plain": [
       "array([[0.23615584, 0.40294258, 0.73851164, 0.79757474, 0.33968454,\n",
       "        0.11840341],\n",
       "       [0.45465739, 0.71890682, 0.66418072, 0.66700017, 0.66756504,\n",
       "        0.98857548],\n",
       "       [0.04802751, 0.63216933, 0.06594584, 0.16928214, 0.51912736,\n",
       "        0.53051936],\n",
       "       [0.39086908, 0.72453374, 0.76865589, 0.16202678, 0.29591148,\n",
       "        0.02210657],\n",
       "       [0.71029321, 0.12571914, 0.24430741, 0.01320252, 0.50342019,\n",
       "        0.58011766]])"
      ]
     },
     "execution_count": 39,
     "metadata": {},
     "output_type": "execute_result"
    }
   ],
   "source": [
    "np.random.rand(5,6)"
   ]
  },
  {
   "cell_type": "markdown",
   "id": "960e7b9b",
   "metadata": {},
   "source": [
    "### rand( ) 함수로 생성한 배열로 Data Frame 만들기"
   ]
  },
  {
   "cell_type": "code",
   "execution_count": 40,
   "id": "0f358984",
   "metadata": {},
   "outputs": [],
   "source": [
    "df = pd.DataFrame(np.random.rand(4, 3), columns = ['A', 'B', 'C'])"
   ]
  },
  {
   "cell_type": "code",
   "execution_count": 41,
   "id": "92231e5d",
   "metadata": {},
   "outputs": [
    {
     "data": {
      "text/html": [
       "<div>\n",
       "<style scoped>\n",
       "    .dataframe tbody tr th:only-of-type {\n",
       "        vertical-align: middle;\n",
       "    }\n",
       "\n",
       "    .dataframe tbody tr th {\n",
       "        vertical-align: top;\n",
       "    }\n",
       "\n",
       "    .dataframe thead th {\n",
       "        text-align: right;\n",
       "    }\n",
       "</style>\n",
       "<table border=\"1\" class=\"dataframe\">\n",
       "  <thead>\n",
       "    <tr style=\"text-align: right;\">\n",
       "      <th></th>\n",
       "      <th>A</th>\n",
       "      <th>B</th>\n",
       "      <th>C</th>\n",
       "    </tr>\n",
       "  </thead>\n",
       "  <tbody>\n",
       "    <tr>\n",
       "      <th>0</th>\n",
       "      <td>0.421583</td>\n",
       "      <td>0.562567</td>\n",
       "      <td>0.389965</td>\n",
       "    </tr>\n",
       "    <tr>\n",
       "      <th>1</th>\n",
       "      <td>0.486216</td>\n",
       "      <td>0.812375</td>\n",
       "      <td>0.871488</td>\n",
       "    </tr>\n",
       "    <tr>\n",
       "      <th>2</th>\n",
       "      <td>0.235802</td>\n",
       "      <td>0.809718</td>\n",
       "      <td>0.646676</td>\n",
       "    </tr>\n",
       "    <tr>\n",
       "      <th>3</th>\n",
       "      <td>0.786898</td>\n",
       "      <td>0.346411</td>\n",
       "      <td>0.753452</td>\n",
       "    </tr>\n",
       "  </tbody>\n",
       "</table>\n",
       "</div>"
      ],
      "text/plain": [
       "          A         B         C\n",
       "0  0.421583  0.562567  0.389965\n",
       "1  0.486216  0.812375  0.871488\n",
       "2  0.235802  0.809718  0.646676\n",
       "3  0.786898  0.346411  0.753452"
      ]
     },
     "execution_count": 41,
     "metadata": {},
     "output_type": "execute_result"
    }
   ],
   "source": [
    "df"
   ]
  },
  {
   "cell_type": "code",
   "execution_count": 42,
   "id": "5dc80c23",
   "metadata": {},
   "outputs": [],
   "source": [
    "df2 = pd.DataFrame(np.random.rand(4, 3), columns = ['A', 'B', 'C'])"
   ]
  },
  {
   "cell_type": "code",
   "execution_count": 43,
   "id": "89b5abd0",
   "metadata": {},
   "outputs": [
    {
     "data": {
      "text/html": [
       "<div>\n",
       "<style scoped>\n",
       "    .dataframe tbody tr th:only-of-type {\n",
       "        vertical-align: middle;\n",
       "    }\n",
       "\n",
       "    .dataframe tbody tr th {\n",
       "        vertical-align: top;\n",
       "    }\n",
       "\n",
       "    .dataframe thead th {\n",
       "        text-align: right;\n",
       "    }\n",
       "</style>\n",
       "<table border=\"1\" class=\"dataframe\">\n",
       "  <thead>\n",
       "    <tr style=\"text-align: right;\">\n",
       "      <th></th>\n",
       "      <th>A</th>\n",
       "      <th>B</th>\n",
       "      <th>C</th>\n",
       "    </tr>\n",
       "  </thead>\n",
       "  <tbody>\n",
       "    <tr>\n",
       "      <th>0</th>\n",
       "      <td>0.649618</td>\n",
       "      <td>0.815695</td>\n",
       "      <td>0.101276</td>\n",
       "    </tr>\n",
       "    <tr>\n",
       "      <th>1</th>\n",
       "      <td>0.651604</td>\n",
       "      <td>0.134890</td>\n",
       "      <td>0.497212</td>\n",
       "    </tr>\n",
       "    <tr>\n",
       "      <th>2</th>\n",
       "      <td>0.342610</td>\n",
       "      <td>0.395388</td>\n",
       "      <td>0.687699</td>\n",
       "    </tr>\n",
       "    <tr>\n",
       "      <th>3</th>\n",
       "      <td>0.686817</td>\n",
       "      <td>0.853378</td>\n",
       "      <td>0.417779</td>\n",
       "    </tr>\n",
       "  </tbody>\n",
       "</table>\n",
       "</div>"
      ],
      "text/plain": [
       "          A         B         C\n",
       "0  0.649618  0.815695  0.101276\n",
       "1  0.651604  0.134890  0.497212\n",
       "2  0.342610  0.395388  0.687699\n",
       "3  0.686817  0.853378  0.417779"
      ]
     },
     "execution_count": 43,
     "metadata": {},
     "output_type": "execute_result"
    }
   ],
   "source": [
    "df2"
   ]
  },
  {
   "cell_type": "markdown",
   "id": "0c7a15cf",
   "metadata": {},
   "source": [
    "## Data Frame의 통계적 분포 확인"
   ]
  },
  {
   "cell_type": "code",
   "execution_count": 44,
   "id": "258069fd",
   "metadata": {},
   "outputs": [
    {
     "data": {
      "text/html": [
       "<div>\n",
       "<style scoped>\n",
       "    .dataframe tbody tr th:only-of-type {\n",
       "        vertical-align: middle;\n",
       "    }\n",
       "\n",
       "    .dataframe tbody tr th {\n",
       "        vertical-align: top;\n",
       "    }\n",
       "\n",
       "    .dataframe thead th {\n",
       "        text-align: right;\n",
       "    }\n",
       "</style>\n",
       "<table border=\"1\" class=\"dataframe\">\n",
       "  <thead>\n",
       "    <tr style=\"text-align: right;\">\n",
       "      <th></th>\n",
       "      <th>A</th>\n",
       "      <th>B</th>\n",
       "      <th>C</th>\n",
       "    </tr>\n",
       "  </thead>\n",
       "  <tbody>\n",
       "    <tr>\n",
       "      <th>count</th>\n",
       "      <td>4.000000</td>\n",
       "      <td>4.000000</td>\n",
       "      <td>4.000000</td>\n",
       "    </tr>\n",
       "    <tr>\n",
       "      <th>mean</th>\n",
       "      <td>0.482625</td>\n",
       "      <td>0.632768</td>\n",
       "      <td>0.665395</td>\n",
       "    </tr>\n",
       "    <tr>\n",
       "      <th>std</th>\n",
       "      <td>0.228942</td>\n",
       "      <td>0.223978</td>\n",
       "      <td>0.205297</td>\n",
       "    </tr>\n",
       "    <tr>\n",
       "      <th>min</th>\n",
       "      <td>0.235802</td>\n",
       "      <td>0.346411</td>\n",
       "      <td>0.389965</td>\n",
       "    </tr>\n",
       "    <tr>\n",
       "      <th>25%</th>\n",
       "      <td>0.375138</td>\n",
       "      <td>0.508528</td>\n",
       "      <td>0.582499</td>\n",
       "    </tr>\n",
       "    <tr>\n",
       "      <th>50%</th>\n",
       "      <td>0.453899</td>\n",
       "      <td>0.686143</td>\n",
       "      <td>0.700064</td>\n",
       "    </tr>\n",
       "    <tr>\n",
       "      <th>75%</th>\n",
       "      <td>0.561386</td>\n",
       "      <td>0.810382</td>\n",
       "      <td>0.782961</td>\n",
       "    </tr>\n",
       "    <tr>\n",
       "      <th>max</th>\n",
       "      <td>0.786898</td>\n",
       "      <td>0.812375</td>\n",
       "      <td>0.871488</td>\n",
       "    </tr>\n",
       "  </tbody>\n",
       "</table>\n",
       "</div>"
      ],
      "text/plain": [
       "              A         B         C\n",
       "count  4.000000  4.000000  4.000000\n",
       "mean   0.482625  0.632768  0.665395\n",
       "std    0.228942  0.223978  0.205297\n",
       "min    0.235802  0.346411  0.389965\n",
       "25%    0.375138  0.508528  0.582499\n",
       "50%    0.453899  0.686143  0.700064\n",
       "75%    0.561386  0.810382  0.782961\n",
       "max    0.786898  0.812375  0.871488"
      ]
     },
     "execution_count": 44,
     "metadata": {},
     "output_type": "execute_result"
    }
   ],
   "source": [
    "df.describe()"
   ]
  },
  {
   "cell_type": "markdown",
   "id": "57dbcfbf",
   "metadata": {},
   "source": [
    "## Data Frame 연산하기\n",
    "\n",
    "* Numpy 배열의 연산과 원리 같음\n",
    "* 한 Data Frame에 속한 컬럼끼리 연산할 수 있음\n",
    "* 인덱스끼리는 연산 불가\n",
    "* Data Frame에 문자열이 포함되면 연산 불가"
   ]
  },
  {
   "cell_type": "markdown",
   "id": "421e96f2",
   "metadata": {},
   "source": [
    "### 하나의 Data Frame의 컬럼끼리 연산하기"
   ]
  },
  {
   "cell_type": "code",
   "execution_count": 45,
   "id": "f22100e2",
   "metadata": {},
   "outputs": [
    {
     "data": {
      "text/plain": [
       "0    0.811548\n",
       "1    1.357704\n",
       "2    0.882478\n",
       "3    1.540350\n",
       "dtype: float64"
      ]
     },
     "execution_count": 45,
     "metadata": {},
     "output_type": "execute_result"
    }
   ],
   "source": [
    "df.A + df.C"
   ]
  },
  {
   "cell_type": "markdown",
   "id": "af5aa291",
   "metadata": {},
   "source": [
    "### 두 Data Frame 연산하기"
   ]
  },
  {
   "cell_type": "code",
   "execution_count": 46,
   "id": "f8130443",
   "metadata": {},
   "outputs": [
    {
     "data": {
      "text/plain": [
       "0    1.071201\n",
       "1    1.137820\n",
       "2    0.578412\n",
       "3    1.473716\n",
       "Name: A, dtype: float64"
      ]
     },
     "execution_count": 46,
     "metadata": {},
     "output_type": "execute_result"
    }
   ],
   "source": [
    "df.A + df2.A"
   ]
  },
  {
   "cell_type": "code",
   "execution_count": 47,
   "id": "ccfb7220",
   "metadata": {},
   "outputs": [
    {
     "data": {
      "text/html": [
       "<div>\n",
       "<style scoped>\n",
       "    .dataframe tbody tr th:only-of-type {\n",
       "        vertical-align: middle;\n",
       "    }\n",
       "\n",
       "    .dataframe tbody tr th {\n",
       "        vertical-align: top;\n",
       "    }\n",
       "\n",
       "    .dataframe thead th {\n",
       "        text-align: right;\n",
       "    }\n",
       "</style>\n",
       "<table border=\"1\" class=\"dataframe\">\n",
       "  <thead>\n",
       "    <tr style=\"text-align: right;\">\n",
       "      <th></th>\n",
       "      <th>A</th>\n",
       "      <th>B</th>\n",
       "      <th>C</th>\n",
       "    </tr>\n",
       "  </thead>\n",
       "  <tbody>\n",
       "    <tr>\n",
       "      <th>0</th>\n",
       "      <td>1.071201</td>\n",
       "      <td>1.378262</td>\n",
       "      <td>0.491242</td>\n",
       "    </tr>\n",
       "    <tr>\n",
       "      <th>1</th>\n",
       "      <td>1.137820</td>\n",
       "      <td>0.947265</td>\n",
       "      <td>1.368701</td>\n",
       "    </tr>\n",
       "    <tr>\n",
       "      <th>2</th>\n",
       "      <td>0.578412</td>\n",
       "      <td>1.205106</td>\n",
       "      <td>1.334375</td>\n",
       "    </tr>\n",
       "    <tr>\n",
       "      <th>3</th>\n",
       "      <td>1.473716</td>\n",
       "      <td>1.199789</td>\n",
       "      <td>1.171231</td>\n",
       "    </tr>\n",
       "  </tbody>\n",
       "</table>\n",
       "</div>"
      ],
      "text/plain": [
       "          A         B         C\n",
       "0  1.071201  1.378262  0.491242\n",
       "1  1.137820  0.947265  1.368701\n",
       "2  0.578412  1.205106  1.334375\n",
       "3  1.473716  1.199789  1.171231"
      ]
     },
     "execution_count": 47,
     "metadata": {},
     "output_type": "execute_result"
    }
   ],
   "source": [
    "df + df2"
   ]
  },
  {
   "cell_type": "markdown",
   "id": "cdc37f1e",
   "metadata": {},
   "source": [
    "## Data Frame 합치기"
   ]
  },
  {
   "cell_type": "code",
   "execution_count": 48,
   "id": "c2c08d95",
   "metadata": {},
   "outputs": [],
   "source": [
    "df3 = pd.DataFrame([1, 2, 3], columns = ['A'])"
   ]
  },
  {
   "cell_type": "code",
   "execution_count": 49,
   "id": "59dc48bd",
   "metadata": {},
   "outputs": [],
   "source": [
    "df4 = pd.DataFrame([4, 5, 6], columns = ['B'])"
   ]
  },
  {
   "cell_type": "code",
   "execution_count": 50,
   "id": "e11ff615",
   "metadata": {},
   "outputs": [],
   "source": [
    "df5 = pd.DataFrame([4, 5], columns = ['B'])"
   ]
  },
  {
   "cell_type": "code",
   "execution_count": 51,
   "id": "d6773f6f",
   "metadata": {},
   "outputs": [
    {
     "data": {
      "text/html": [
       "<div>\n",
       "<style scoped>\n",
       "    .dataframe tbody tr th:only-of-type {\n",
       "        vertical-align: middle;\n",
       "    }\n",
       "\n",
       "    .dataframe tbody tr th {\n",
       "        vertical-align: top;\n",
       "    }\n",
       "\n",
       "    .dataframe thead th {\n",
       "        text-align: right;\n",
       "    }\n",
       "</style>\n",
       "<table border=\"1\" class=\"dataframe\">\n",
       "  <thead>\n",
       "    <tr style=\"text-align: right;\">\n",
       "      <th></th>\n",
       "      <th>A</th>\n",
       "      <th>B</th>\n",
       "    </tr>\n",
       "  </thead>\n",
       "  <tbody>\n",
       "    <tr>\n",
       "      <th>0</th>\n",
       "      <td>1</td>\n",
       "      <td>4</td>\n",
       "    </tr>\n",
       "    <tr>\n",
       "      <th>1</th>\n",
       "      <td>2</td>\n",
       "      <td>5</td>\n",
       "    </tr>\n",
       "    <tr>\n",
       "      <th>2</th>\n",
       "      <td>3</td>\n",
       "      <td>6</td>\n",
       "    </tr>\n",
       "  </tbody>\n",
       "</table>\n",
       "</div>"
      ],
      "text/plain": [
       "   A  B\n",
       "0  1  4\n",
       "1  2  5\n",
       "2  3  6"
      ]
     },
     "execution_count": 51,
     "metadata": {},
     "output_type": "execute_result"
    }
   ],
   "source": [
    "df3.join(df4, how = 'outer')"
   ]
  },
  {
   "cell_type": "code",
   "execution_count": 52,
   "id": "ffebc7a1",
   "metadata": {},
   "outputs": [
    {
     "data": {
      "text/html": [
       "<div>\n",
       "<style scoped>\n",
       "    .dataframe tbody tr th:only-of-type {\n",
       "        vertical-align: middle;\n",
       "    }\n",
       "\n",
       "    .dataframe tbody tr th {\n",
       "        vertical-align: top;\n",
       "    }\n",
       "\n",
       "    .dataframe thead th {\n",
       "        text-align: right;\n",
       "    }\n",
       "</style>\n",
       "<table border=\"1\" class=\"dataframe\">\n",
       "  <thead>\n",
       "    <tr style=\"text-align: right;\">\n",
       "      <th></th>\n",
       "      <th>A</th>\n",
       "      <th>B</th>\n",
       "    </tr>\n",
       "  </thead>\n",
       "  <tbody>\n",
       "    <tr>\n",
       "      <th>0</th>\n",
       "      <td>1</td>\n",
       "      <td>4.0</td>\n",
       "    </tr>\n",
       "    <tr>\n",
       "      <th>1</th>\n",
       "      <td>2</td>\n",
       "      <td>5.0</td>\n",
       "    </tr>\n",
       "    <tr>\n",
       "      <th>2</th>\n",
       "      <td>3</td>\n",
       "      <td>NaN</td>\n",
       "    </tr>\n",
       "  </tbody>\n",
       "</table>\n",
       "</div>"
      ],
      "text/plain": [
       "   A    B\n",
       "0  1  4.0\n",
       "1  2  5.0\n",
       "2  3  NaN"
      ]
     },
     "execution_count": 52,
     "metadata": {},
     "output_type": "execute_result"
    }
   ],
   "source": [
    "df3.join(df5, how = 'outer')"
   ]
  },
  {
   "cell_type": "markdown",
   "id": "5ec5eb12",
   "metadata": {},
   "source": [
    "행 수가 다른 두 Data Frame도 합칠 수 있음. 짧은 쪽에 NaN이 들어감."
   ]
  },
  {
   "cell_type": "markdown",
   "id": "f5f10151",
   "metadata": {},
   "source": [
    "## 데이터 그룹핑"
   ]
  },
  {
   "cell_type": "code",
   "execution_count": 66,
   "id": "8d701492",
   "metadata": {},
   "outputs": [],
   "source": [
    "df6 = pd.DataFrame(\n",
    "    [\n",
    "        ['Mike', 30, 1, 'M'],\n",
    "        ['Sarah', 22, 0, 'F'],\n",
    "        ['David', 31, 4, 'M'],\n",
    "        ['Daniel', 25, 1, 'M'],\n",
    "        ['Lucy', 33, 3, 'F']\n",
    "    ],\n",
    "    columns = ['Name', 'Age', 'Children', 'Gender']\n",
    ")"
   ]
  },
  {
   "cell_type": "code",
   "execution_count": 67,
   "id": "053a202e",
   "metadata": {},
   "outputs": [
    {
     "data": {
      "text/html": [
       "<div>\n",
       "<style scoped>\n",
       "    .dataframe tbody tr th:only-of-type {\n",
       "        vertical-align: middle;\n",
       "    }\n",
       "\n",
       "    .dataframe tbody tr th {\n",
       "        vertical-align: top;\n",
       "    }\n",
       "\n",
       "    .dataframe thead th {\n",
       "        text-align: right;\n",
       "    }\n",
       "</style>\n",
       "<table border=\"1\" class=\"dataframe\">\n",
       "  <thead>\n",
       "    <tr style=\"text-align: right;\">\n",
       "      <th></th>\n",
       "      <th>Name</th>\n",
       "      <th>Age</th>\n",
       "      <th>Children</th>\n",
       "      <th>Gender</th>\n",
       "    </tr>\n",
       "  </thead>\n",
       "  <tbody>\n",
       "    <tr>\n",
       "      <th>0</th>\n",
       "      <td>Mike</td>\n",
       "      <td>30</td>\n",
       "      <td>1</td>\n",
       "      <td>M</td>\n",
       "    </tr>\n",
       "    <tr>\n",
       "      <th>1</th>\n",
       "      <td>Sarah</td>\n",
       "      <td>22</td>\n",
       "      <td>0</td>\n",
       "      <td>F</td>\n",
       "    </tr>\n",
       "    <tr>\n",
       "      <th>2</th>\n",
       "      <td>David</td>\n",
       "      <td>31</td>\n",
       "      <td>4</td>\n",
       "      <td>M</td>\n",
       "    </tr>\n",
       "    <tr>\n",
       "      <th>3</th>\n",
       "      <td>Daniel</td>\n",
       "      <td>25</td>\n",
       "      <td>1</td>\n",
       "      <td>M</td>\n",
       "    </tr>\n",
       "    <tr>\n",
       "      <th>4</th>\n",
       "      <td>Lucy</td>\n",
       "      <td>33</td>\n",
       "      <td>3</td>\n",
       "      <td>F</td>\n",
       "    </tr>\n",
       "  </tbody>\n",
       "</table>\n",
       "</div>"
      ],
      "text/plain": [
       "     Name  Age  Children Gender\n",
       "0    Mike   30         1      M\n",
       "1   Sarah   22         0      F\n",
       "2   David   31         4      M\n",
       "3  Daniel   25         1      M\n",
       "4    Lucy   33         3      F"
      ]
     },
     "execution_count": 67,
     "metadata": {},
     "output_type": "execute_result"
    }
   ],
   "source": [
    "df6"
   ]
  },
  {
   "cell_type": "code",
   "execution_count": 68,
   "id": "76ed67d5",
   "metadata": {},
   "outputs": [],
   "source": [
    "df7 = df6.groupby('Gender').mean()"
   ]
  },
  {
   "cell_type": "code",
   "execution_count": 69,
   "id": "90a346fc",
   "metadata": {},
   "outputs": [
    {
     "data": {
      "text/html": [
       "<div>\n",
       "<style scoped>\n",
       "    .dataframe tbody tr th:only-of-type {\n",
       "        vertical-align: middle;\n",
       "    }\n",
       "\n",
       "    .dataframe tbody tr th {\n",
       "        vertical-align: top;\n",
       "    }\n",
       "\n",
       "    .dataframe thead th {\n",
       "        text-align: right;\n",
       "    }\n",
       "</style>\n",
       "<table border=\"1\" class=\"dataframe\">\n",
       "  <thead>\n",
       "    <tr style=\"text-align: right;\">\n",
       "      <th></th>\n",
       "      <th>Age</th>\n",
       "      <th>Children</th>\n",
       "    </tr>\n",
       "    <tr>\n",
       "      <th>Gender</th>\n",
       "      <th></th>\n",
       "      <th></th>\n",
       "    </tr>\n",
       "  </thead>\n",
       "  <tbody>\n",
       "    <tr>\n",
       "      <th>F</th>\n",
       "      <td>27.500000</td>\n",
       "      <td>1.5</td>\n",
       "    </tr>\n",
       "    <tr>\n",
       "      <th>M</th>\n",
       "      <td>28.666667</td>\n",
       "      <td>2.0</td>\n",
       "    </tr>\n",
       "  </tbody>\n",
       "</table>\n",
       "</div>"
      ],
      "text/plain": [
       "              Age  Children\n",
       "Gender                     \n",
       "F       27.500000       1.5\n",
       "M       28.666667       2.0"
      ]
     },
     "execution_count": 69,
     "metadata": {},
     "output_type": "execute_result"
    }
   ],
   "source": [
    "df7"
   ]
  },
  {
   "cell_type": "markdown",
   "id": "0f8c8b0c",
   "metadata": {},
   "source": [
    "* mean( ) 함수의 리턴값도 Data Frame\n",
    "* Name 컬럼의 자료형은 문자열이므로, 평균 연산을 하지 않음"
   ]
  },
  {
   "cell_type": "code",
   "execution_count": 63,
   "id": "41a7d6e8",
   "metadata": {},
   "outputs": [
    {
     "data": {
      "text/html": [
       "<div>\n",
       "<style scoped>\n",
       "    .dataframe tbody tr th:only-of-type {\n",
       "        vertical-align: middle;\n",
       "    }\n",
       "\n",
       "    .dataframe tbody tr th {\n",
       "        vertical-align: top;\n",
       "    }\n",
       "\n",
       "    .dataframe thead th {\n",
       "        text-align: right;\n",
       "    }\n",
       "</style>\n",
       "<table border=\"1\" class=\"dataframe\">\n",
       "  <thead>\n",
       "    <tr style=\"text-align: right;\">\n",
       "      <th></th>\n",
       "      <th>Age</th>\n",
       "      <th>Children</th>\n",
       "    </tr>\n",
       "    <tr>\n",
       "      <th>Gender</th>\n",
       "      <th></th>\n",
       "      <th></th>\n",
       "    </tr>\n",
       "  </thead>\n",
       "  <tbody>\n",
       "    <tr>\n",
       "      <th>F</th>\n",
       "      <td>7.778175</td>\n",
       "      <td>2.121320</td>\n",
       "    </tr>\n",
       "    <tr>\n",
       "      <th>M</th>\n",
       "      <td>3.214550</td>\n",
       "      <td>1.732051</td>\n",
       "    </tr>\n",
       "  </tbody>\n",
       "</table>\n",
       "</div>"
      ],
      "text/plain": [
       "             Age  Children\n",
       "Gender                    \n",
       "F       7.778175  2.121320\n",
       "M       3.214550  1.732051"
      ]
     },
     "execution_count": 63,
     "metadata": {},
     "output_type": "execute_result"
    }
   ],
   "source": [
    "df6.groupby('Gender').std()"
   ]
  },
  {
   "cell_type": "code",
   "execution_count": 65,
   "id": "eeecc5fd",
   "metadata": {},
   "outputs": [
    {
     "data": {
      "text/html": [
       "<div>\n",
       "<style scoped>\n",
       "    .dataframe tbody tr th:only-of-type {\n",
       "        vertical-align: middle;\n",
       "    }\n",
       "\n",
       "    .dataframe tbody tr th {\n",
       "        vertical-align: top;\n",
       "    }\n",
       "\n",
       "    .dataframe thead th {\n",
       "        text-align: right;\n",
       "    }\n",
       "</style>\n",
       "<table border=\"1\" class=\"dataframe\">\n",
       "  <thead>\n",
       "    <tr style=\"text-align: right;\">\n",
       "      <th></th>\n",
       "      <th>Age</th>\n",
       "      <th>Children</th>\n",
       "    </tr>\n",
       "    <tr>\n",
       "      <th>Name</th>\n",
       "      <th></th>\n",
       "      <th></th>\n",
       "    </tr>\n",
       "  </thead>\n",
       "  <tbody>\n",
       "    <tr>\n",
       "      <th>Daniel</th>\n",
       "      <td>25.0</td>\n",
       "      <td>1.0</td>\n",
       "    </tr>\n",
       "    <tr>\n",
       "      <th>David</th>\n",
       "      <td>31.0</td>\n",
       "      <td>4.0</td>\n",
       "    </tr>\n",
       "    <tr>\n",
       "      <th>Lucy</th>\n",
       "      <td>33.0</td>\n",
       "      <td>3.0</td>\n",
       "    </tr>\n",
       "    <tr>\n",
       "      <th>Mike</th>\n",
       "      <td>30.0</td>\n",
       "      <td>1.0</td>\n",
       "    </tr>\n",
       "    <tr>\n",
       "      <th>Sarah</th>\n",
       "      <td>22.0</td>\n",
       "      <td>0.0</td>\n",
       "    </tr>\n",
       "  </tbody>\n",
       "</table>\n",
       "</div>"
      ],
      "text/plain": [
       "         Age  Children\n",
       "Name                  \n",
       "Daniel  25.0       1.0\n",
       "David   31.0       4.0\n",
       "Lucy    33.0       3.0\n",
       "Mike    30.0       1.0\n",
       "Sarah   22.0       0.0"
      ]
     },
     "execution_count": 65,
     "metadata": {},
     "output_type": "execute_result"
    }
   ],
   "source": [
    "df6.groupby('Name').mean()"
   ]
  }
 ],
 "metadata": {
  "kernelspec": {
   "display_name": "Python 3 (ipykernel)",
   "language": "python",
   "name": "python3"
  },
  "language_info": {
   "codemirror_mode": {
    "name": "ipython",
    "version": 3
   },
   "file_extension": ".py",
   "mimetype": "text/x-python",
   "name": "python",
   "nbconvert_exporter": "python",
   "pygments_lexer": "ipython3",
   "version": "3.10.2"
  }
 },
 "nbformat": 4,
 "nbformat_minor": 5
}
